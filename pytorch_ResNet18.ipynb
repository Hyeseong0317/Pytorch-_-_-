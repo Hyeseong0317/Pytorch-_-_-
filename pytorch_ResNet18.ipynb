{
  "nbformat": 4,
  "nbformat_minor": 0,
  "metadata": {
    "colab": {
      "name": "pytorch_ResNet18.ipynb",
      "provenance": [],
      "collapsed_sections": [],
      "machine_shape": "hm",
      "include_colab_link": true
    },
    "kernelspec": {
      "name": "python3",
      "display_name": "Python 3"
    },
    "language_info": {
      "name": "python"
    },
    "accelerator": "GPU"
  },
  "cells": [
    {
      "cell_type": "markdown",
      "metadata": {
        "id": "view-in-github",
        "colab_type": "text"
      },
      "source": [
        "<a href=\"https://colab.research.google.com/github/Hyeseong0317/Pytorch_Capstone_Design/blob/main/pytorch_ResNet18.ipynb\" target=\"_parent\"><img src=\"https://colab.research.google.com/assets/colab-badge.svg\" alt=\"Open In Colab\"/></a>"
      ]
    },
    {
      "cell_type": "code",
      "metadata": {
        "id": "idmZQ2_tPZb8",
        "colab": {
          "base_uri": "https://localhost:8080/"
        },
        "outputId": "fbc077fa-dcf7-479a-9407-962b3f92e260"
      },
      "source": [
        "from google.colab import drive\n",
        "drive.mount('/content/drive')"
      ],
      "execution_count": 1,
      "outputs": [
        {
          "output_type": "stream",
          "text": [
            "Drive already mounted at /content/drive; to attempt to forcibly remount, call drive.mount(\"/content/drive\", force_remount=True).\n"
          ],
          "name": "stdout"
        }
      ]
    },
    {
      "cell_type": "code",
      "metadata": {
        "id": "9pwRHssvsuSH"
      },
      "source": [
        "from __future__ import print_function, division\n",
        "\n",
        "import torch\n",
        "import torch.nn as nn\n",
        "import torch.nn.functional as F\n",
        "import torch.backends.cudnn as cudnn\n",
        "import torch.optim as optim\n",
        "from torch.optim import lr_scheduler\n",
        "import numpy as np\n",
        "import torchvision\n",
        "from torchvision import datasets, models, transforms\n",
        "from torch.utils.data import DataLoader\n",
        "import torchvision.transforms as transforms\n",
        "import matplotlib.pyplot as plt\n",
        "import time\n",
        "import copy\n",
        "import os"
      ],
      "execution_count": 2,
      "outputs": []
    },
    {
      "cell_type": "code",
      "metadata": {
        "id": "Nfij_LSGVq6z"
      },
      "source": [
        "device = 'cuda' if torch.cuda.is_available() else 'cpu'\n",
        "\n",
        "# 랜덤 시드 고정\n",
        "torch.manual_seed(777)\n",
        "\n",
        "# GPU 사용 가능일 경우 랜덤 시드 고정\n",
        "if device == 'cuda':\n",
        "    torch.cuda.manual_seed_all(777)"
      ],
      "execution_count": 3,
      "outputs": []
    },
    {
      "cell_type": "code",
      "metadata": {
        "id": "oCtR1jkq1GpT"
      },
      "source": [
        "# ResNet18을 위해 최대한 간단히 수정한 BasicBlock 클래스 정의\n",
        "class BasicBlock(nn.Module):\n",
        "    def __init__(self, in_planes, planes, stride=1):\n",
        "        super(BasicBlock, self).__init__()\n",
        "\n",
        "        # 3x3 필터를 사용 (너비와 높이를 줄일 때는 stride 값 조절)\n",
        "        self.conv1 = nn.Conv2d(in_planes, planes, kernel_size=3, stride=stride, padding=1, bias=False)\n",
        "        self.bn1 = nn.BatchNorm2d(planes) # 배치 정규화(batch normalization)\n",
        "\n",
        "        # 3x3 필터를 사용 (패딩을 1만큼 주기 때문에 너비와 높이가 동일)\n",
        "        self.conv2 = nn.Conv2d(planes, planes, kernel_size=3, stride=1, padding=1, bias=False)\n",
        "        self.bn2 = nn.BatchNorm2d(planes) # 배치 정규화(batch normalization)\n",
        "\n",
        "        self.shortcut = nn.Sequential() # identity인 경우\n",
        "        if stride != 1: # stride가 1이 아니라면, Identity mapping이 아닌 경우\n",
        "            self.shortcut = nn.Sequential(\n",
        "                nn.Conv2d(in_planes, planes, kernel_size=1, stride=stride, bias=False),\n",
        "                nn.BatchNorm2d(planes)\n",
        "            )\n",
        "\n",
        "    def forward(self, x):\n",
        "        out = F.relu(self.bn1(self.conv1(x)))\n",
        "        out = self.bn2(self.conv2(out))\n",
        "        out += self.shortcut(x) # (핵심) skip connection\n",
        "        out = F.relu(out)\n",
        "        return out\n",
        "\n",
        "\n",
        "# ResNet 클래스 정의\n",
        "class ResNet(nn.Module):\n",
        "    def __init__(self, block, num_blocks, num_classes=4):\n",
        "        super(ResNet, self).__init__()\n",
        "        self.in_planes = 64\n",
        "\n",
        "        # 64개의 3x3 필터(filter)를 사용\n",
        "        self.conv1 = nn.Conv2d(1, 64, kernel_size=3, stride=1, padding=1, bias=False)\n",
        "        self.bn1 = nn.BatchNorm2d(64)\n",
        "        self.layer1 = self._make_layer(block, 64, num_blocks[0], stride=1)\n",
        "        self.layer2 = self._make_layer(block, 128, num_blocks[1], stride=2)\n",
        "        self.layer3 = self._make_layer(block, 256, num_blocks[2], stride=2)\n",
        "        self.layer4 = self._make_layer(block, 512, num_blocks[3], stride=2)\n",
        "        flatten = nn.Flatten()\n",
        "        self.linear = nn.Linear(25088, num_classes)\n",
        "\n",
        "    def _make_layer(self, block, planes, num_blocks, stride):\n",
        "        strides = [stride] + [1] * (num_blocks - 1)\n",
        "        layers = []\n",
        "        for stride in strides:\n",
        "            layers.append(block(self.in_planes, planes, stride))\n",
        "            self.in_planes = planes # 다음 레이어를 위해 채널 수 변경\n",
        "        return nn.Sequential(*layers)\n",
        "\n",
        "    def forward(self, x):\n",
        "        out = F.relu(self.bn1(self.conv1(x)))\n",
        "        print(out.shape)\n",
        "        out = self.layer1(out)\n",
        "        print(out.shape)\n",
        "        out = self.layer2(out)\n",
        "        print(out.shape)\n",
        "        out = self.layer3(out)\n",
        "        print(out.shape)\n",
        "        out = self.layer4(out)\n",
        "        print(out.shape)\n",
        "        out = F.avg_pool2d(out, 4)\n",
        "        print(out.shape)\n",
        "        out = out.view(out.size(0), -1)\n",
        "        print(out.shape)\n",
        "        out = self.linear(out)\n",
        "        print(out.shape)\n",
        "        return out\n",
        "\n",
        "\n",
        "# ResNet18 함수 정의\n",
        "def ResNet18():\n",
        "    return ResNet(BasicBlock, [2, 2, 2, 2])"
      ],
      "execution_count": 4,
      "outputs": []
    },
    {
      "cell_type": "code",
      "metadata": {
        "id": "Pg2ZYE1YP7C2"
      },
      "source": [
        "net = ResNet18()"
      ],
      "execution_count": 5,
      "outputs": []
    },
    {
      "cell_type": "code",
      "metadata": {
        "id": "OseB11UHTv-w",
        "outputId": "2b2ce94f-d5b9-4979-8373-aa5bd330dc51",
        "colab": {
          "base_uri": "https://localhost:8080/"
        }
      },
      "source": [
        "inputs = torch.Tensor(30, 1, 224, 224)\n",
        "print('텐서의 크기 : {}'.format(inputs.shape))"
      ],
      "execution_count": 6,
      "outputs": [
        {
          "output_type": "stream",
          "text": [
            "텐서의 크기 : torch.Size([30, 1, 224, 224])\n"
          ],
          "name": "stdout"
        }
      ]
    },
    {
      "cell_type": "code",
      "metadata": {
        "id": "doOkfQ-kQT4l",
        "outputId": "6bb2a145-e6f4-431a-b3d1-3af1a9219e89",
        "colab": {
          "base_uri": "https://localhost:8080/"
        }
      },
      "source": [
        "net(inputs)"
      ],
      "execution_count": 7,
      "outputs": [
        {
          "output_type": "stream",
          "text": [
            "torch.Size([30, 64, 224, 224])\n",
            "torch.Size([30, 64, 224, 224])\n",
            "torch.Size([30, 128, 112, 112])\n",
            "torch.Size([30, 256, 56, 56])\n",
            "torch.Size([30, 512, 28, 28])\n",
            "torch.Size([30, 512, 7, 7])\n",
            "torch.Size([30, 25088])\n",
            "torch.Size([30, 4])\n"
          ],
          "name": "stdout"
        },
        {
          "output_type": "execute_result",
          "data": {
            "text/plain": [
              "tensor([[ 0.0062, -0.0011,  0.0039, -0.0033],\n",
              "        [ 0.0062, -0.0011,  0.0039, -0.0033],\n",
              "        [ 0.0062, -0.0011,  0.0039, -0.0033],\n",
              "        [ 0.0062, -0.0011,  0.0039, -0.0033],\n",
              "        [ 0.0062, -0.0011,  0.0039, -0.0033],\n",
              "        [ 0.0062, -0.0011,  0.0039, -0.0033],\n",
              "        [ 0.0062, -0.0011,  0.0039, -0.0033],\n",
              "        [ 0.0062, -0.0011,  0.0039, -0.0033],\n",
              "        [ 0.0062, -0.0011,  0.0039, -0.0033],\n",
              "        [ 0.0062, -0.0011,  0.0039, -0.0033],\n",
              "        [ 0.0062, -0.0011,  0.0039, -0.0033],\n",
              "        [ 0.0062, -0.0011,  0.0039, -0.0033],\n",
              "        [ 0.0062, -0.0011,  0.0039, -0.0033],\n",
              "        [ 0.0062, -0.0011,  0.0039, -0.0033],\n",
              "        [ 0.0062, -0.0011,  0.0039, -0.0033],\n",
              "        [ 0.0062, -0.0011,  0.0039, -0.0033],\n",
              "        [ 0.0062, -0.0011,  0.0039, -0.0033],\n",
              "        [ 0.0062, -0.0011,  0.0039, -0.0033],\n",
              "        [ 0.0062, -0.0011,  0.0039, -0.0033],\n",
              "        [ 0.0062, -0.0011,  0.0039, -0.0033],\n",
              "        [ 0.0062, -0.0011,  0.0039, -0.0033],\n",
              "        [ 0.0062, -0.0011,  0.0039, -0.0033],\n",
              "        [ 0.0062, -0.0011,  0.0039, -0.0033],\n",
              "        [ 0.0062, -0.0011,  0.0039, -0.0033],\n",
              "        [ 0.0062, -0.0011,  0.0039, -0.0033],\n",
              "        [ 0.0062, -0.0011,  0.0039, -0.0033],\n",
              "        [ 0.0062, -0.0011,  0.0039, -0.0033],\n",
              "        [ 0.0062, -0.0011,  0.0039, -0.0033],\n",
              "        [ 0.0062, -0.0011,  0.0039, -0.0033],\n",
              "        [ 0.0062, -0.0011,  0.0039, -0.0033]], grad_fn=<AddmmBackward>)"
            ]
          },
          "metadata": {
            "tags": []
          },
          "execution_count": 7
        }
      ]
    },
    {
      "cell_type": "code",
      "metadata": {
        "id": "lw7BMvjos-WW"
      },
      "source": [
        "data_transforms = {\n",
        "    'train': transforms.Compose([\n",
        "        transforms.Grayscale(num_output_channels=1),\n",
        "        transforms.RandomResizedCrop(224),                         \n",
        "        transforms.ToTensor(),\n",
        "        transforms.Normalize([0.5], [0.5])\n",
        "    ]),\n",
        "    'val': transforms.Compose([\n",
        "        transforms.Grayscale(num_output_channels=1),\n",
        "        transforms.RandomResizedCrop(224), \n",
        "        transforms.ToTensor(),\n",
        "        transforms.Normalize([0.5], [0.5])\n",
        "    ]),\n",
        "    'test': transforms.Compose([\n",
        "        transforms.Grayscale(num_output_channels=1),\n",
        "        transforms.RandomResizedCrop(224),                        \n",
        "        transforms.ToTensor(),\n",
        "        transforms.Normalize([0.5], [0.5])\n",
        "    ])\n",
        "}"
      ],
      "execution_count": 8,
      "outputs": []
    },
    {
      "cell_type": "code",
      "metadata": {
        "id": "EEyQqJLhMrMl"
      },
      "source": [
        "data_dir = '/content/drive/Shareddrives/8:1:1/OCT2017(8:1:1)'\n",
        "image_datasets = {x: datasets.ImageFolder(os.path.join(data_dir, x),\n",
        "                                          data_transforms[x])\n",
        "                    for x in ['train', 'val', 'test']}\n"
      ],
      "execution_count": 9,
      "outputs": []
    },
    {
      "cell_type": "code",
      "metadata": {
        "id": "DDim-szLr0X4"
      },
      "source": [
        "train_dataloader = {x: torch.utils.data.DataLoader(image_datasets[x], batch_size=30,\n",
        "                                             shuffle=True, drop_last=True, num_workers=2)\n",
        "                    for x in ['train']}\n",
        "\n",
        "val_dataloader = {x: torch.utils.data.DataLoader(image_datasets[x], batch_size=14,\n",
        "                                             shuffle=True, drop_last=True, num_workers=2)\n",
        "                    for x in ['val']}                   \n",
        "\n",
        "test_dataloader = {x: torch.utils.data.DataLoader(image_datasets[x], batch_size=14,\n",
        "                                             shuffle=True, drop_last=True, num_workers=2)\n",
        "                    for x in ['test']}\n",
        "\n",
        "\n",
        "dataset_sizes = {x: len(image_datasets[x]) for x in ['train', 'val', 'test']}\n",
        "\n",
        "class_names = image_datasets['train'].classes\n",
        "\n",
        "device = torch.device(\"cuda:0\" if torch.cuda.is_available() else \"cpu\")\n"
      ],
      "execution_count": 10,
      "outputs": []
    },
    {
      "cell_type": "code",
      "metadata": {
        "colab": {
          "base_uri": "https://localhost:8080/",
          "height": 206
        },
        "id": "MPY85dRiXSFK",
        "outputId": "c530b3fe-0095-4bd8-abb9-8709b4cd9820"
      },
      "source": [
        "def imshow(inp, title=None):\n",
        "    \"\"\"Imshow for Tensor.\"\"\"\n",
        "    inp = inp.numpy().transpose((1, 2, 0))\n",
        "    mean = np.array([0.5])\n",
        "    std = np.array([0.5])\n",
        "    inp = std * inp + mean\n",
        "    inp = np.clip(inp, 0, 1)\n",
        "    plt.imshow(inp)\n",
        "    if title is not None:\n",
        "        plt.title(title)\n",
        "    plt.pause(0.001)  # 갱신이 될 때까지 잠시 기다립니다.\n",
        "\n",
        "\n",
        "# 학습 데이터의 배치를 얻습니다.\n",
        "inputs, classes = next(iter(train_dataloader['train']))\n",
        "\n",
        "# 배치로부터 격자 형태의 이미지를 만듭니다.\n",
        "out = torchvision.utils.make_grid(inputs)\n",
        "\n",
        "imshow(out, title=[class_names[x] for x in classes])"
      ],
      "execution_count": 11,
      "outputs": [
        {
          "output_type": "display_data",
          "data": {
            "image/png": "[encoded data removed]",
            "text/plain": [
              "<Figure size 432x288 with 1 Axes>"
            ]
          },
          "metadata": {
            "tags": [],
            "needs_background": "light"
          }
        }
      ]
    },
    {
      "cell_type": "code",
      "metadata": {
        "colab": {
          "base_uri": "https://localhost:8080/"
        },
        "id": "rnZmh5izKdo5",
        "outputId": "2707e02f-ffbb-40d2-8a6d-5450188608e4"
      },
      "source": [
        "for id, data in enumerate(train_dataloader['train']):\n",
        "  print(id)\n",
        "  img = data[0]\n",
        "  label = data[1]\n",
        "  print(img.shape)\n",
        "  print(label.shape)\n",
        "  break"
      ],
      "execution_count": 12,
      "outputs": [
        {
          "output_type": "stream",
          "text": [
            "0\n",
            "torch.Size([30, 1, 224, 224])\n",
            "torch.Size([30])\n"
          ],
          "name": "stdout"
        }
      ]
    },
    {
      "cell_type": "code",
      "metadata": {
        "id": "ZyGqoAjIjBRS",
        "colab": {
          "base_uri": "https://localhost:8080/"
        },
        "outputId": "1bed0340-b2c6-4578-adde-6b48aaba0dff"
      },
      "source": [
        "inputs = torch.Tensor(30, 1, 224, 224)\n",
        "print('텐서의 크기 : {}'.format(inputs.shape))"
      ],
      "execution_count": 13,
      "outputs": [
        {
          "output_type": "stream",
          "text": [
            "텐서의 크기 : torch.Size([30, 1, 224, 224])\n"
          ],
          "name": "stdout"
        }
      ]
    },
    {
      "cell_type": "code",
      "metadata": {
        "id": "eeg2jkTV3Efm"
      },
      "source": [
        "device = 'cuda'\n",
        "\n",
        "net = ResNet18()\n",
        "net = net.to(device)\n",
        "net = torch.nn.DataParallel(net)\n",
        "cudnn.benchmark = True\n",
        "\n",
        "learning_rate = 0.001\n",
        "file_name = 'resnet18_retina.pt'\n",
        "\n",
        "criterion = nn.CrossEntropyLoss()\n",
        "optimizer = optim.SGD(net.parameters(), lr=learning_rate, momentum=0.9, weight_decay=0.0002)\n",
        "\n",
        "\n",
        "def train(epoch):\n",
        "    print('\\n[ Train epoch: %d ]' % epoch)\n",
        "    net.train()\n",
        "    train_loss = 0\n",
        "    correct = 0\n",
        "    total = 0\n",
        "    for batch_idx, (inputs, targets) in enumerate(train_dataloader['train']):\n",
        "        inputs, targets = inputs.to(device), targets.to(device)\n",
        "        optimizer.zero_grad()\n",
        "\n",
        "        benign_outputs = net(inputs)\n",
        "        loss = criterion(benign_outputs, targets)\n",
        "        loss.backward()\n",
        "\n",
        "        optimizer.step()\n",
        "        train_loss += loss.item()\n",
        "        _, predicted = benign_outputs.max(1)\n",
        "\n",
        "        total += targets.size(0)\n",
        "        correct += predicted.eq(targets).sum().item()\n",
        "        \n",
        "        if batch_idx % 100 == 0:\n",
        "            print('\\nCurrent batch:', str(batch_idx))\n",
        "            print('Current benign train accuracy:', str(predicted.eq(targets).sum().item() / targets.size(0)))\n",
        "            print('Current benign train loss:', loss.item())\n",
        "\n",
        "    print('\\nTotal benign train accuarcy:', 100. * correct / total)\n",
        "    print('Total benign train loss:', train_loss)\n",
        "\n",
        "\n",
        "def test(epoch):\n",
        "    print('\\n[ Test epoch: %d ]' % epoch)\n",
        "    net.eval()\n",
        "    loss = 0\n",
        "    correct = 0\n",
        "    total = 0\n",
        "\n",
        "    for batch_idx, (inputs, targets) in enumerate(test_dataloader['test']):\n",
        "        inputs, targets = inputs.to(device), targets.to(device)\n",
        "        total += targets.size(0)\n",
        "\n",
        "        outputs = net(inputs)\n",
        "        loss += criterion(outputs, targets).item()\n",
        "\n",
        "        _, predicted = outputs.max(1)\n",
        "        correct += predicted.eq(targets).sum().item()\n",
        "\n",
        "    print('\\nTest accuarcy:', 100. * correct / total)\n",
        "    print('Test average loss:', loss / total)\n",
        "\n",
        "    state = {\n",
        "        'net': net.state_dict()\n",
        "    }\n",
        "    if not os.path.isdir('checkpoint'):\n",
        "        os.mkdir('checkpoint')\n",
        "    torch.save(state, './checkpoint/' + file_name)\n",
        "    print('Model Saved!')\n",
        "\n",
        "\n",
        "def adjust_learning_rate(optimizer, epoch):\n",
        "    lr = learning_rate\n",
        "    if epoch >= 5:\n",
        "        lr /= 10\n",
        "    for param_group in optimizer.param_groups:\n",
        "        param_group['lr'] = lr"
      ],
      "execution_count": 14,
      "outputs": []
    },
    {
      "cell_type": "code",
      "metadata": {
        "colab": {
          "base_uri": "https://localhost:8080/"
        },
        "id": "vO8DYp3S_FNK",
        "outputId": "077e90c8-81fd-4962-a5f8-392686842dc4"
      },
      "source": [
        "net"
      ],
      "execution_count": 15,
      "outputs": [
        {
          "output_type": "execute_result",
          "data": {
            "text/plain": [
              "DataParallel(\n",
              "  (module): ResNet(\n",
              "    (conv1): Conv2d(1, 64, kernel_size=(3, 3), stride=(1, 1), padding=(1, 1), bias=False)\n",
              "    (bn1): BatchNorm2d(64, eps=1e-05, momentum=0.1, affine=True, track_running_stats=True)\n",
              "    (layer1): Sequential(\n",
              "      (0): BasicBlock(\n",
              "        (conv1): Conv2d(64, 64, kernel_size=(3, 3), stride=(1, 1), padding=(1, 1), bias=False)\n",
              "        (bn1): BatchNorm2d(64, eps=1e-05, momentum=0.1, affine=True, track_running_stats=True)\n",
              "        (conv2): Conv2d(64, 64, kernel_size=(3, 3), stride=(1, 1), padding=(1, 1), bias=False)\n",
              "        (bn2): BatchNorm2d(64, eps=1e-05, momentum=0.1, affine=True, track_running_stats=True)\n",
              "        (shortcut): Sequential()\n",
              "      )\n",
              "      (1): BasicBlock(\n",
              "        (conv1): Conv2d(64, 64, kernel_size=(3, 3), stride=(1, 1), padding=(1, 1), bias=False)\n",
              "        (bn1): BatchNorm2d(64, eps=1e-05, momentum=0.1, affine=True, track_running_stats=True)\n",
              "        (conv2): Conv2d(64, 64, kernel_size=(3, 3), stride=(1, 1), padding=(1, 1), bias=False)\n",
              "        (bn2): BatchNorm2d(64, eps=1e-05, momentum=0.1, affine=True, track_running_stats=True)\n",
              "        (shortcut): Sequential()\n",
              "      )\n",
              "    )\n",
              "    (layer2): Sequential(\n",
              "      (0): BasicBlock(\n",
              "        (conv1): Conv2d(64, 128, kernel_size=(3, 3), stride=(2, 2), padding=(1, 1), bias=False)\n",
              "        (bn1): BatchNorm2d(128, eps=1e-05, momentum=0.1, affine=True, track_running_stats=True)\n",
              "        (conv2): Conv2d(128, 128, kernel_size=(3, 3), stride=(1, 1), padding=(1, 1), bias=False)\n",
              "        (bn2): BatchNorm2d(128, eps=1e-05, momentum=0.1, affine=True, track_running_stats=True)\n",
              "        (shortcut): Sequential(\n",
              "          (0): Conv2d(64, 128, kernel_size=(1, 1), stride=(2, 2), bias=False)\n",
              "          (1): BatchNorm2d(128, eps=1e-05, momentum=0.1, affine=True, track_running_stats=True)\n",
              "        )\n",
              "      )\n",
              "      (1): BasicBlock(\n",
              "        (conv1): Conv2d(128, 128, kernel_size=(3, 3), stride=(1, 1), padding=(1, 1), bias=False)\n",
              "        (bn1): BatchNorm2d(128, eps=1e-05, momentum=0.1, affine=True, track_running_stats=True)\n",
              "        (conv2): Conv2d(128, 128, kernel_size=(3, 3), stride=(1, 1), padding=(1, 1), bias=False)\n",
              "        (bn2): BatchNorm2d(128, eps=1e-05, momentum=0.1, affine=True, track_running_stats=True)\n",
              "        (shortcut): Sequential()\n",
              "      )\n",
              "    )\n",
              "    (layer3): Sequential(\n",
              "      (0): BasicBlock(\n",
              "        (conv1): Conv2d(128, 256, kernel_size=(3, 3), stride=(2, 2), padding=(1, 1), bias=False)\n",
              "        (bn1): BatchNorm2d(256, eps=1e-05, momentum=0.1, affine=True, track_running_stats=True)\n",
              "        (conv2): Conv2d(256, 256, kernel_size=(3, 3), stride=(1, 1), padding=(1, 1), bias=False)\n",
              "        (bn2): BatchNorm2d(256, eps=1e-05, momentum=0.1, affine=True, track_running_stats=True)\n",
              "        (shortcut): Sequential(\n",
              "          (0): Conv2d(128, 256, kernel_size=(1, 1), stride=(2, 2), bias=False)\n",
              "          (1): BatchNorm2d(256, eps=1e-05, momentum=0.1, affine=True, track_running_stats=True)\n",
              "        )\n",
              "      )\n",
              "      (1): BasicBlock(\n",
              "        (conv1): Conv2d(256, 256, kernel_size=(3, 3), stride=(1, 1), padding=(1, 1), bias=False)\n",
              "        (bn1): BatchNorm2d(256, eps=1e-05, momentum=0.1, affine=True, track_running_stats=True)\n",
              "        (conv2): Conv2d(256, 256, kernel_size=(3, 3), stride=(1, 1), padding=(1, 1), bias=False)\n",
              "        (bn2): BatchNorm2d(256, eps=1e-05, momentum=0.1, affine=True, track_running_stats=True)\n",
              "        (shortcut): Sequential()\n",
              "      )\n",
              "    )\n",
              "    (layer4): Sequential(\n",
              "      (0): BasicBlock(\n",
              "        (conv1): Conv2d(256, 512, kernel_size=(3, 3), stride=(2, 2), padding=(1, 1), bias=False)\n",
              "        (bn1): BatchNorm2d(512, eps=1e-05, momentum=0.1, affine=True, track_running_stats=True)\n",
              "        (conv2): Conv2d(512, 512, kernel_size=(3, 3), stride=(1, 1), padding=(1, 1), bias=False)\n",
              "        (bn2): BatchNorm2d(512, eps=1e-05, momentum=0.1, affine=True, track_running_stats=True)\n",
              "        (shortcut): Sequential(\n",
              "          (0): Conv2d(256, 512, kernel_size=(1, 1), stride=(2, 2), bias=False)\n",
              "          (1): BatchNorm2d(512, eps=1e-05, momentum=0.1, affine=True, track_running_stats=True)\n",
              "        )\n",
              "      )\n",
              "      (1): BasicBlock(\n",
              "        (conv1): Conv2d(512, 512, kernel_size=(3, 3), stride=(1, 1), padding=(1, 1), bias=False)\n",
              "        (bn1): BatchNorm2d(512, eps=1e-05, momentum=0.1, affine=True, track_running_stats=True)\n",
              "        (conv2): Conv2d(512, 512, kernel_size=(3, 3), stride=(1, 1), padding=(1, 1), bias=False)\n",
              "        (bn2): BatchNorm2d(512, eps=1e-05, momentum=0.1, affine=True, track_running_stats=True)\n",
              "        (shortcut): Sequential()\n",
              "      )\n",
              "    )\n",
              "    (linear): Linear(in_features=25088, out_features=4, bias=True)\n",
              "  )\n",
              ")"
            ]
          },
          "metadata": {
            "tags": []
          },
          "execution_count": 15
        }
      ]
    },
    {
      "cell_type": "code",
      "metadata": {
        "id": "J6fc6EpE5ObK",
        "colab": {
          "base_uri": "https://localhost:8080/"
        },
        "outputId": "d8e21dd1-c34d-45b8-afe1-77b920bc6492"
      },
      "source": [
        "for epoch in range(0, 10):\n",
        "    adjust_learning_rate(optimizer, epoch)\n",
        "    train(epoch)\n",
        "    test(epoch)"
      ],
      "execution_count": null,
      "outputs": [
        {
          "output_type": "stream",
          "text": [
            "\n",
            "[ Train epoch: 0 ]\n",
            "torch.Size([30, 64, 224, 224])\n",
            "torch.Size([30, 64, 224, 224])\n",
            "torch.Size([30, 128, 112, 112])\n",
            "torch.Size([30, 256, 56, 56])\n",
            "torch.Size([30, 512, 28, 28])\n",
            "torch.Size([30, 512, 7, 7])\n",
            "torch.Size([30, 25088])\n",
            "torch.Size([30, 4])\n",
            "\n",
            "Current batch: 0\n",
            "Current benign train accuracy: 0.03333333333333333\n",
            "Current benign train loss: 1.7250767946243286\n",
            "torch.Size([30, 64, 224, 224])\n",
            "torch.Size([30, 64, 224, 224])\n",
            "torch.Size([30, 128, 112, 112])\n",
            "torch.Size([30, 256, 56, 56])\n",
            "torch.Size([30, 512, 28, 28])\n",
            "torch.Size([30, 512, 7, 7])\n",
            "torch.Size([30, 25088])\n",
            "torch.Size([30, 4])\n",
            "torch.Size([30, 64, 224, 224])\n",
            "torch.Size([30, 64, 224, 224])\n",
            "torch.Size([30, 128, 112, 112])\n",
            "torch.Size([30, 256, 56, 56])\n",
            "torch.Size([30, 512, 28, 28])\n",
            "torch.Size([30, 512, 7, 7])\n",
            "torch.Size([30, 25088])\n",
            "torch.Size([30, 4])\n",
            "torch.Size([30, 64, 224, 224])\n",
            "torch.Size([30, 64, 224, 224])\n",
            "torch.Size([30, 128, 112, 112])\n",
            "torch.Size([30, 256, 56, 56])\n",
            "torch.Size([30, 512, 28, 28])\n",
            "torch.Size([30, 512, 7, 7])\n",
            "torch.Size([30, 25088])\n",
            "torch.Size([30, 4])\n",
            "torch.Size([30, 64, 224, 224])\n",
            "torch.Size([30, 64, 224, 224])\n",
            "torch.Size([30, 128, 112, 112])\n",
            "torch.Size([30, 256, 56, 56])\n",
            "torch.Size([30, 512, 28, 28])\n",
            "torch.Size([30, 512, 7, 7])\n",
            "torch.Size([30, 25088])\n",
            "torch.Size([30, 4])\n",
            "torch.Size([30, 64, 224, 224])\n",
            "torch.Size([30, 64, 224, 224])\n",
            "torch.Size([30, 128, 112, 112])\n",
            "torch.Size([30, 256, 56, 56])\n",
            "torch.Size([30, 512, 28, 28])\n",
            "torch.Size([30, 512, 7, 7])\n",
            "torch.Size([30, 25088])\n",
            "torch.Size([30, 4])\n",
            "torch.Size([30, 64, 224, 224])\n",
            "torch.Size([30, 64, 224, 224])\n",
            "torch.Size([30, 128, 112, 112])\n",
            "torch.Size([30, 256, 56, 56])\n",
            "torch.Size([30, 512, 28, 28])\n",
            "torch.Size([30, 512, 7, 7])\n",
            "torch.Size([30, 25088])\n",
            "torch.Size([30, 4])\n",
            "torch.Size([30, 64, 224, 224])\n",
            "torch.Size([30, 64, 224, 224])\n",
            "torch.Size([30, 128, 112, 112])\n",
            "torch.Size([30, 256, 56, 56])\n",
            "torch.Size([30, 512, 28, 28])\n",
            "torch.Size([30, 512, 7, 7])\n",
            "torch.Size([30, 25088])\n",
            "torch.Size([30, 4])\n",
            "torch.Size([30, 64, 224, 224])\n",
            "torch.Size([30, 64, 224, 224])\n",
            "torch.Size([30, 128, 112, 112])\n",
            "torch.Size([30, 256, 56, 56])\n",
            "torch.Size([30, 512, 28, 28])\n",
            "torch.Size([30, 512, 7, 7])\n",
            "torch.Size([30, 25088])\n",
            "torch.Size([30, 4])\n",
            "torch.Size([30, 64, 224, 224])\n",
            "torch.Size([30, 64, 224, 224])\n",
            "torch.Size([30, 128, 112, 112])\n",
            "torch.Size([30, 256, 56, 56])\n",
            "torch.Size([30, 512, 28, 28])\n",
            "torch.Size([30, 512, 7, 7])\n",
            "torch.Size([30, 25088])\n",
            "torch.Size([30, 4])\n",
            "torch.Size([30, 64, 224, 224])\n",
            "torch.Size([30, 64, 224, 224])\n",
            "torch.Size([30, 128, 112, 112])\n",
            "torch.Size([30, 256, 56, 56])\n",
            "torch.Size([30, 512, 28, 28])\n",
            "torch.Size([30, 512, 7, 7])\n",
            "torch.Size([30, 25088])\n",
            "torch.Size([30, 4])\n",
            "torch.Size([30, 64, 224, 224])\n",
            "torch.Size([30, 64, 224, 224])\n",
            "torch.Size([30, 128, 112, 112])\n",
            "torch.Size([30, 256, 56, 56])\n",
            "torch.Size([30, 512, 28, 28])\n",
            "torch.Size([30, 512, 7, 7])\n",
            "torch.Size([30, 25088])\n",
            "torch.Size([30, 4])\n",
            "torch.Size([30, 64, 224, 224])\n",
            "torch.Size([30, 64, 224, 224])\n",
            "torch.Size([30, 128, 112, 112])\n",
            "torch.Size([30, 256, 56, 56])\n",
            "torch.Size([30, 512, 28, 28])\n",
            "torch.Size([30, 512, 7, 7])\n",
            "torch.Size([30, 25088])\n",
            "torch.Size([30, 4])\n",
            "torch.Size([30, 64, 224, 224])\n",
            "torch.Size([30, 64, 224, 224])\n",
            "torch.Size([30, 128, 112, 112])\n",
            "torch.Size([30, 256, 56, 56])\n",
            "torch.Size([30, 512, 28, 28])\n",
            "torch.Size([30, 512, 7, 7])\n",
            "torch.Size([30, 25088])\n",
            "torch.Size([30, 4])\n",
            "torch.Size([30, 64, 224, 224])\n",
            "torch.Size([30, 64, 224, 224])\n",
            "torch.Size([30, 128, 112, 112])\n",
            "torch.Size([30, 256, 56, 56])\n",
            "torch.Size([30, 512, 28, 28])\n",
            "torch.Size([30, 512, 7, 7])\n",
            "torch.Size([30, 25088])\n",
            "torch.Size([30, 4])\n",
            "torch.Size([30, 64, 224, 224])\n",
            "torch.Size([30, 64, 224, 224])\n",
            "torch.Size([30, 128, 112, 112])\n",
            "torch.Size([30, 256, 56, 56])\n",
            "torch.Size([30, 512, 28, 28])\n",
            "torch.Size([30, 512, 7, 7])\n",
            "torch.Size([30, 25088])\n",
            "torch.Size([30, 4])\n",
            "torch.Size([30, 64, 224, 224])\n",
            "torch.Size([30, 64, 224, 224])\n",
            "torch.Size([30, 128, 112, 112])\n",
            "torch.Size([30, 256, 56, 56])\n",
            "torch.Size([30, 512, 28, 28])\n",
            "torch.Size([30, 512, 7, 7])\n",
            "torch.Size([30, 25088])\n",
            "torch.Size([30, 4])\n",
            "torch.Size([30, 64, 224, 224])\n",
            "torch.Size([30, 64, 224, 224])\n",
            "torch.Size([30, 128, 112, 112])\n",
            "torch.Size([30, 256, 56, 56])\n",
            "torch.Size([30, 512, 28, 28])\n",
            "torch.Size([30, 512, 7, 7])\n",
            "torch.Size([30, 25088])\n",
            "torch.Size([30, 4])\n",
            "torch.Size([30, 64, 224, 224])\n",
            "torch.Size([30, 64, 224, 224])\n",
            "torch.Size([30, 128, 112, 112])\n",
            "torch.Size([30, 256, 56, 56])\n",
            "torch.Size([30, 512, 28, 28])\n",
            "torch.Size([30, 512, 7, 7])\n",
            "torch.Size([30, 25088])\n",
            "torch.Size([30, 4])\n",
            "torch.Size([30, 64, 224, 224])\n",
            "torch.Size([30, 64, 224, 224])\n",
            "torch.Size([30, 128, 112, 112])\n",
            "torch.Size([30, 256, 56, 56])\n",
            "torch.Size([30, 512, 28, 28])\n",
            "torch.Size([30, 512, 7, 7])\n",
            "torch.Size([30, 25088])\n",
            "torch.Size([30, 4])\n",
            "torch.Size([30, 64, 224, 224])\n",
            "torch.Size([30, 64, 224, 224])\n",
            "torch.Size([30, 128, 112, 112])\n",
            "torch.Size([30, 256, 56, 56])\n",
            "torch.Size([30, 512, 28, 28])\n",
            "torch.Size([30, 512, 7, 7])\n",
            "torch.Size([30, 25088])\n",
            "torch.Size([30, 4])\n",
            "torch.Size([30, 64, 224, 224])\n",
            "torch.Size([30, 64, 224, 224])\n",
            "torch.Size([30, 128, 112, 112])\n",
            "torch.Size([30, 256, 56, 56])\n",
            "torch.Size([30, 512, 28, 28])\n",
            "torch.Size([30, 512, 7, 7])\n",
            "torch.Size([30, 25088])\n",
            "torch.Size([30, 4])\n",
            "torch.Size([30, 64, 224, 224])\n",
            "torch.Size([30, 64, 224, 224])\n",
            "torch.Size([30, 128, 112, 112])\n",
            "torch.Size([30, 256, 56, 56])\n",
            "torch.Size([30, 512, 28, 28])\n",
            "torch.Size([30, 512, 7, 7])\n",
            "torch.Size([30, 25088])\n",
            "torch.Size([30, 4])\n",
            "torch.Size([30, 64, 224, 224])\n",
            "torch.Size([30, 64, 224, 224])\n",
            "torch.Size([30, 128, 112, 112])\n",
            "torch.Size([30, 256, 56, 56])\n",
            "torch.Size([30, 512, 28, 28])\n",
            "torch.Size([30, 512, 7, 7])\n",
            "torch.Size([30, 25088])\n",
            "torch.Size([30, 4])\n",
            "torch.Size([30, 64, 224, 224])\n",
            "torch.Size([30, 64, 224, 224])\n",
            "torch.Size([30, 128, 112, 112])\n",
            "torch.Size([30, 256, 56, 56])\n",
            "torch.Size([30, 512, 28, 28])\n",
            "torch.Size([30, 512, 7, 7])\n",
            "torch.Size([30, 25088])\n",
            "torch.Size([30, 4])\n",
            "torch.Size([30, 64, 224, 224])\n",
            "torch.Size([30, 64, 224, 224])\n",
            "torch.Size([30, 128, 112, 112])\n",
            "torch.Size([30, 256, 56, 56])\n",
            "torch.Size([30, 512, 28, 28])\n",
            "torch.Size([30, 512, 7, 7])\n",
            "torch.Size([30, 25088])\n",
            "torch.Size([30, 4])\n"
          ],
          "name": "stdout"
        }
      ]
    },
    {
      "cell_type": "code",
      "metadata": {
        "id": "D7mO_gEe9uE7"
      },
      "source": [
        "plt.plot(뭘 넣을까)\n",
        "plt.title('train loss')\n",
        "plt.xlabel('step')\n",
        "plt.ylabel('loss')\n",
        "plt.show()"
      ],
      "execution_count": null,
      "outputs": []
    },
    {
      "cell_type": "code",
      "metadata": {
        "id": "vZqhEerU2-N3"
      },
      "source": [
        ""
      ],
      "execution_count": 22,
      "outputs": []
    }
  ]
}