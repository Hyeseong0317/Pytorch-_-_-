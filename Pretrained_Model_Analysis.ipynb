{
  "nbformat": 4,
  "nbformat_minor": 0,
  "metadata": {
    "colab": {
      "name": "Pretrained Model Analysis.ipynb",
      "private_outputs": true,
      "provenance": [],
      "authorship_tag": "ABX9TyNeH2rGDrpOnD59RaWPiEkN",
      "include_colab_link": true
    },
    "kernelspec": {
      "name": "python3",
      "display_name": "Python 3"
    },
    "language_info": {
      "name": "python"
    },
    "accelerator": "GPU"
  },
  "cells": [
    {
      "cell_type": "markdown",
      "metadata": {
        "id": "view-in-github",
        "colab_type": "text"
      },
      "source": [
        "<a href=\"https://colab.research.google.com/github/Hyeseong0317/Pytorch_Capstone_Design/blob/main/Pretrained_Model_Analysis.ipynb\" target=\"_parent\"><img src=\"https://colab.research.google.com/assets/colab-badge.svg\" alt=\"Open In Colab\"/></a>"
      ]
    },
    {
      "cell_type": "markdown",
      "metadata": {
        "id": "TY6elhpxgAul"
      },
      "source": [
        "# Pretained Model 분석"
      ]
    },
    {
      "cell_type": "code",
      "metadata": {
        "id": "RiTG5A6cgZ74"
      },
      "source": [
        "pip install tensorflow_addons"
      ],
      "execution_count": null,
      "outputs": []
    },
    {
      "cell_type": "code",
      "metadata": {
        "id": "_G7Aoyv5gNip"
      },
      "source": [
        "# Import the required libraries\n",
        "\n",
        "import os\n",
        "import random\n",
        "\n",
        "import numpy as np\n",
        "import matplotlib.pyplot as plt\n",
        "import seaborn as sns\n",
        "\n",
        "import tensorflow as tf\n",
        "import tensorflow_addons as tfa\n",
        "from tensorflow.keras.preprocessing.image import ImageDataGenerator, load_img"
      ],
      "execution_count": null,
      "outputs": []
    },
    {
      "cell_type": "code",
      "metadata": {
        "id": "eBaVdKYHgNb4"
      },
      "source": [
        "# Store the base directory path\n",
        "\n",
        "base_dir = os.path.join(\"/kaggle/input/kermany2018/oct2017/OCT2017 /\")\n",
        "print('Base directory --> ', os.listdir(base_dir))"
      ],
      "execution_count": null,
      "outputs": []
    },
    {
      "cell_type": "code",
      "metadata": {
        "id": "IRPixINFgNRJ"
      },
      "source": [
        "# Store the train, validation and test directory paths\n",
        "\n",
        "train_dir = os.path.join(base_dir + \"train/\")\n",
        "print(\"Train Directory --> \", os.listdir(train_dir))\n",
        "\n",
        "validation_dir = os.path.join(base_dir + \"val/\")\n",
        "print(\"Validation Directory --> \", os.listdir(validation_dir))\n",
        "\n",
        "test_dir = os.path.join(base_dir + \"test/\")\n",
        "print(\"Test Directory --> \", os.listdir(test_dir))"
      ],
      "execution_count": null,
      "outputs": []
    },
    {
      "cell_type": "code",
      "metadata": {
        "id": "7HWA_bx4gVPL"
      },
      "source": [
        "# Plot each type of image in the dataset\n",
        "\n",
        "fig, ax = plt.subplots(1, 4, figsize=(15, 10))\n",
        "\n",
        "drusen = random.choice(os.listdir(train_dir + \"DRUSEN\"))\n",
        "drusen_image = load_img(train_dir + \"DRUSEN/\" + drusen)\n",
        "ax[0].imshow(drusen_image)\n",
        "ax[0].set_title(\"DRUSEN\")\n",
        "ax[0].axis(\"Off\")\n",
        "\n",
        "dme = random.choice(os.listdir(train_dir + \"DME\"))\n",
        "dme_image = load_img(train_dir + \"DME/\" + dme)\n",
        "ax[1].imshow(dme_image)\n",
        "ax[1].set_title(\"DME\")\n",
        "ax[1].axis(\"Off\")\n",
        "\n",
        "cnv = random.choice(os.listdir(train_dir + \"CNV\"))\n",
        "cnv_image = load_img(train_dir + \"CNV/\" + cnv)\n",
        "ax[2].imshow(cnv_image)\n",
        "ax[2].set_title(\"CNV\")\n",
        "ax[2].axis(\"Off\")\n",
        "\n",
        "normal = random.choice(os.listdir(train_dir + \"NORMAL\"))\n",
        "normal_image = load_img(train_dir + \"NORMAL/\" + normal)\n",
        "ax[3].imshow(normal_image)\n",
        "ax[3].set_title(\"NORMAL\")\n",
        "ax[3].axis(\"Off\")\n",
        "\n",
        "plt.show()"
      ],
      "execution_count": null,
      "outputs": []
    },
    {
      "cell_type": "code",
      "metadata": {
        "id": "jd3In5ZUgI1R"
      },
      "source": [
        "INPUT_SHAPE = (150, 150, 3)"
      ],
      "execution_count": null,
      "outputs": []
    },
    {
      "cell_type": "markdown",
      "metadata": {
        "id": "v1uqSZB4g4Hc"
      },
      "source": [
        "# ResNet101"
      ]
    },
    {
      "cell_type": "code",
      "metadata": {
        "id": "W2hp9yvngAA2"
      },
      "source": [
        "resnet_101 = tf.keras.applications.ResNet101(\n",
        "    include_top = False, \n",
        "    weights = 'imagenet', \n",
        "    input_tensor = None,\n",
        "    input_shape = INPUT_SHAPE, \n",
        "    pooling = None, \n",
        "    classes = 1000\n",
        ")"
      ],
      "execution_count": null,
      "outputs": []
    },
    {
      "cell_type": "code",
      "metadata": {
        "id": "8Hm6JQPwgoF3"
      },
      "source": [
        "resnet_101.trainable = False"
      ],
      "execution_count": null,
      "outputs": []
    },
    {
      "cell_type": "code",
      "metadata": {
        "id": "aHvt1PLHhNLR"
      },
      "source": [
        "resnet_101.summary()"
      ],
      "execution_count": null,
      "outputs": []
    },
    {
      "cell_type": "markdown",
      "metadata": {
        "id": "WOIUpK8JhCv4"
      },
      "source": [
        "# MobileNetV2"
      ]
    },
    {
      "cell_type": "code",
      "metadata": {
        "id": "UiPomFQkgzCY"
      },
      "source": [
        "mobile_net_v2 = tf.keras.applications.MobileNetV2(\n",
        "    include_top = False, \n",
        "    weights = 'imagenet', \n",
        "    input_tensor = None,\n",
        "    input_shape = INPUT_SHAPE, \n",
        "    pooling = None, \n",
        "    classes = 1000\n",
        ")"
      ],
      "execution_count": null,
      "outputs": []
    },
    {
      "cell_type": "code",
      "metadata": {
        "id": "k13V5V4Fg0wK"
      },
      "source": [
        "mobile_net_v2.trainable = False"
      ],
      "execution_count": null,
      "outputs": []
    },
    {
      "cell_type": "code",
      "metadata": {
        "id": "x46WnRfwhUSo"
      },
      "source": [
        "mobile_net_v2.summary()"
      ],
      "execution_count": null,
      "outputs": []
    },
    {
      "cell_type": "markdown",
      "metadata": {
        "id": "kQuABEG2hfdN"
      },
      "source": [
        "# Inception_ResNet_v2"
      ]
    },
    {
      "cell_type": "code",
      "metadata": {
        "id": "Mg5x8Dm5hfGj"
      },
      "source": [
        "inception_resnet_v2 = tf.keras.applications.InceptionResNetV2(\n",
        "    include_top = False, \n",
        "    weights = 'imagenet', \n",
        "    input_tensor = None,\n",
        "    input_shape = INPUT_SHAPE, \n",
        "    pooling = None, \n",
        "    classes = 1000\n",
        ")"
      ],
      "execution_count": null,
      "outputs": []
    },
    {
      "cell_type": "code",
      "metadata": {
        "id": "Zucvt1BchrM_"
      },
      "source": [
        "inception_resnet_v2.trainable = False"
      ],
      "execution_count": null,
      "outputs": []
    },
    {
      "cell_type": "code",
      "metadata": {
        "id": "It0Plc9QhxhP"
      },
      "source": [
        "inception_resnet_v2.summary()"
      ],
      "execution_count": null,
      "outputs": []
    },
    {
      "cell_type": "code",
      "metadata": {
        "id": "CGuQcPhjgqeI"
      },
      "source": [
        "model = tf.keras.models.Sequential([\n",
        "    \n",
        "    resnet_101,\n",
        "    tf.keras.layers.Conv2D(64, (3, 3), activation = 'relu'),\n",
        "    tf.keras.layers.Flatten(),\n",
        "    tf.keras.layers.Dense(100, activation = 'relu'),\n",
        "    tf.keras.layers.Dense(4, activation = 'softmax')\n",
        "])"
      ],
      "execution_count": null,
      "outputs": []
    },
    {
      "cell_type": "code",
      "metadata": {
        "id": "3Xai8nsJgrvq"
      },
      "source": [
        "model.summary()"
      ],
      "execution_count": null,
      "outputs": []
    }
  ]
}