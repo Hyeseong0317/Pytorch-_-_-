{
  "nbformat": 4,
  "nbformat_minor": 0,
  "metadata": {
    "colab": {
      "name": "pytorch_dataprocessing.ipynb",
      "provenance": [],
      "authorship_tag": "ABX9TyPO88b6XhIoRLcYGpybvKIA",
      "include_colab_link": true
    },
    "kernelspec": {
      "name": "python3",
      "display_name": "Python 3"
    },
    "language_info": {
      "name": "python"
    }
  },
  "cells": [
    {
      "cell_type": "markdown",
      "metadata": {
        "id": "view-in-github",
        "colab_type": "text"
      },
      "source": [
        "<a href=\"https://colab.research.google.com/github/Hyeseong0317/Pytorch_Capstone_Design/blob/main/pytorch_dataprocessing.ipynb\" target=\"_parent\"><img src=\"https://colab.research.google.com/assets/colab-badge.svg\" alt=\"Open In Colab\"/></a>"
      ]
    },
    {
      "cell_type": "markdown",
      "metadata": {
        "id": "Qm_5NRAHBM0P"
      },
      "source": [
        "##1. 파이토치 제공 데이터 사용\n",
        "##2. 같은 클래스 별 폴더 이미지 데이터 이용\n",
        "##3. 개인 데이터 사용 (2 types)"
      ]
    },
    {
      "cell_type": "markdown",
      "metadata": {
        "id": "4kfuU6h1BWns"
      },
      "source": [
        "### 1. 파이토치 제공 데이터 사용"
      ]
    },
    {
      "cell_type": "code",
      "metadata": {
        "id": "RD2TOlh0BWT3"
      },
      "source": [
        "import torch\n",
        "import torchvision\n",
        "import torchvision.trasnforms as tr\n",
        "from torch.utils.data import DataLoader, Dataset\n",
        "import numpy as np"
      ],
      "execution_count": null,
      "outputs": []
    },
    {
      "cell_type": "code",
      "metadata": {
        "id": "z9OIIXsrB9qX"
      },
      "source": [
        "transf = tr.Compose([tr.Resize(8), tr.ToTensor()])\n",
        "# Transforms on PIL Image\n",
        "# Pad, Grayscale, RandomCrop, Normalize ..\n",
        "# Transforms on torch.*Tensor - tensor image\n",
        "# torchvision.transforms.ToPILImage(mode=None)...\n",
        "# ..."
      ],
      "execution_count": null,
      "outputs": []
    },
    {
      "cell_type": "code",
      "metadata": {
        "id": "mZJUDT_9BVNq"
      },
      "source": [
        "trainset = torchvision.datasets.CIFAR10(root='./data'), train=True, download=True, transform=transf)\n",
        "testset = torchvision.datasets.CIFAR10(root='./data', train=False, download=True, transform=transf)"
      ],
      "execution_count": null,
      "outputs": []
    },
    {
      "cell_type": "code",
      "metadata": {
        "id": "ns8Wio3MBVKu"
      },
      "source": [
        "trainset[0][0].size()"
      ],
      "execution_count": null,
      "outputs": []
    },
    {
      "cell_type": "code",
      "metadata": {
        "id": "kVceA8odA9XD"
      },
      "source": [
        "trainloader = DataLoader(trainset, batch_size=50, shuffle=True, num_workers=2)\n",
        "testloader = DataLoader(testset, batch_size=50, shuffle=True, num_workers=2)"
      ],
      "execution_count": null,
      "outputs": []
    },
    {
      "cell_type": "code",
      "metadata": {
        "id": "4E11A8vJCa10"
      },
      "source": [
        "len(trainloader)"
      ],
      "execution_count": null,
      "outputs": []
    },
    {
      "cell_type": "code",
      "metadata": {
        "id": "fkjNWo_bCavD"
      },
      "source": [
        "dataiter = iter(trainloader)\n",
        "images, lables = dataiter.next()"
      ],
      "execution_count": null,
      "outputs": []
    },
    {
      "cell_type": "code",
      "metadata": {
        "id": "6f9rIk3FCas-"
      },
      "source": [
        "images.size()"
      ],
      "execution_count": null,
      "outputs": []
    },
    {
      "cell_type": "markdown",
      "metadata": {
        "id": "CcDZ4SeXC3Vv"
      },
      "source": [
        "### 2. 같은 클래스 별 폴더 이미지 데이터 이용"
      ]
    },
    {
      "cell_type": "code",
      "metadata": {
        "id": "SeTu41GJD_L5"
      },
      "source": [
        "from google.colab import drive\n",
        "drive.mount('/content/drive')"
      ],
      "execution_count": null,
      "outputs": []
    },
    {
      "cell_type": "code",
      "metadata": {
        "id": "wvvmuabvCaqc"
      },
      "source": [
        "# ./class/tiger ./clsss/lion\n",
        "transf = tr.Compose([tr.Resize(16), tr.ToTensor()])\n",
        "\n",
        "trainset = torchvision.datasets.ImageFolder(root='/content/drive/Shareddrives/8:1:1/OCT2017(8:1:1)/train', transform=transf)\n",
        "trainloader = DataLoader(trainset, batch_size=1, shuffle=False, num_workers=2)\n",
        "print(len(trainloader))"
      ],
      "execution_count": null,
      "outputs": []
    },
    {
      "cell_type": "code",
      "metadata": {
        "id": "P_xrRde7CaoJ"
      },
      "source": [
        "trainset[0][0].size()"
      ],
      "execution_count": null,
      "outputs": []
    },
    {
      "cell_type": "markdown",
      "metadata": {
        "id": "2bWd2r2PDdRM"
      },
      "source": [
        "### 3. 개인 데이터 사용 (2 types)"
      ]
    },
    {
      "cell_type": "code",
      "metadata": {
        "id": "kBfMpwlECalx"
      },
      "source": [
        "# import preprocessing\n",
        "\n",
        "trian_images = np.random.randint(256, size(20,32,32,3))\n",
        "train_labels = np.random.randint(2, size=(20,1))\n",
        "\n",
        "# preprocessing\n",
        "# train_images, train_labels = preprocessing(train_images, train_labels)\n",
        "\n",
        "print(train_images.shape, train_labels.shape)"
      ],
      "execution_count": null,
      "outputs": []
    },
    {
      "cell_type": "code",
      "metadata": {
        "id": "B-1srOeoCajX"
      },
      "source": [
        "class TensorData(Dataset):\n",
        "\n",
        "  def __init(self, x_data, y_data):\n",
        "      self.x_data = torch.FloatTensor(x_data)\n",
        "      self.x_data = self.x_data.permute(0,3,1,2) #### 이미지 개수, 채널 수, 이미지 너비, 높이\n",
        "      self.y_data = torch.LongTensor(y_data)\n",
        "      self.eln = self.y_data.shape[0]\n",
        "\n",
        "  def __getitem__(self, index):\n",
        "\n",
        "      return self.x_data[index], self.y_data[index]\n",
        "\n",
        "  def __len__(self):\n",
        "      return self.len"
      ],
      "execution_count": null,
      "outputs": []
    },
    {
      "cell_type": "code",
      "metadata": {
        "id": "0T9wC323CahV"
      },
      "source": [
        "train_data = TensorData(train_images, train_labels)\n",
        "train_loader = DataLoader(train_data, batch_size=10, shuffle=True)"
      ],
      "execution_count": null,
      "outputs": []
    },
    {
      "cell_type": "code",
      "metadata": {
        "id": "A5Nc_S0sCaeR"
      },
      "source": [
        "train_data[0][0].size()"
      ],
      "execution_count": null,
      "outputs": []
    },
    {
      "cell_type": "code",
      "metadata": {
        "id": "kIuxC0KTCabq"
      },
      "source": [
        "dataiter = iter(train_loader)\n",
        "images, labels = dataiter.next()"
      ],
      "execution_count": null,
      "outputs": []
    },
    {
      "cell_type": "code",
      "metadata": {
        "id": "yPFKlR_qCaZM"
      },
      "source": [
        "image.size()"
      ],
      "execution_count": null,
      "outputs": []
    },
    {
      "cell_type": "markdown",
      "metadata": {
        "id": "B4syUKqdGKkr"
      },
      "source": [
        "### 데이터 전처리 기본 포멧"
      ]
    },
    {
      "cell_type": "code",
      "metadata": {
        "id": "E4FD1ihyCaXo"
      },
      "source": [
        "#### 데이터 전처리 기본 포멧\n",
        "from torch.utils.data import Dataset\n",
        "\n",
        "class MyDataset(Dataset):\n",
        "\n",
        "  def __init__(self):\n",
        "\n",
        "  def __getitem__(self, index):\n",
        "\n",
        "  def __len__(self)"
      ],
      "execution_count": null,
      "outputs": []
    },
    {
      "cell_type": "code",
      "metadata": {
        "id": "cH3mdDofCaVY"
      },
      "source": [
        "class MyDataset(Dataset):\n",
        "\n",
        "  def __init__(self, x_data, y_data, transform=None):\n",
        "\n",
        "      self.x_data = x_data\n",
        "      self.y_data = y_data\n",
        "      self.transform = transform\n",
        "      self.len = len(y_data)\n",
        "\n",
        "  def __getitem__(self, index):\n",
        "      sample = self.x_data[index], self.y_data[index]\n",
        "\n",
        "      if self.transform:\n",
        "          sample = self.transform(sample)\n",
        "\n",
        "          return sample\n",
        "\n",
        "  def __len__(self):\n",
        "      return self.len\n",
        "\n",
        "class ToTensor: ### tr.ToTensor() 함수가 있음에도 ToTensor class를 정의하여 사용하는 이유는 tr.ToTensor()는 PIL image 밖에 다루지 못하기 때문이다. 넘파이배열, 튜플을 다루기 위해서는 ToTensor로 데이터를 텐서형식으로 바꿔야한다\n",
        "    def __call__(self, sample):\n",
        "        inputs, labels = sample\n",
        "        inputs = torch.FloatTensor(inputs)\n",
        "        inputs = inputs.permute(2,0,1)\n",
        "        return inputs,torch.LongTensor(labels)\n",
        "\n",
        "class LinearTensor:\n",
        "\n",
        "  def __init__(self, slope=1, bias=0):\n",
        "      self.slope = slope\n",
        "      self.bias = bias\n",
        "\n",
        "  def __call__(self, sample):\n",
        "      inputs, labels = sample\n",
        "      inputs = self.slope*inputs + self.bias\n",
        "\n",
        "      return inputs, labels"
      ],
      "execution_count": null,
      "outputs": []
    },
    {
      "cell_type": "code",
      "metadata": {
        "id": "y_xhiLNjHlNt"
      },
      "source": [
        "trans = tr.Compose([ToTensor(),LinearTensor(2,5)]) ### tr.ToTensor() 함수가 있음에도 ToTensor class를 정의하여 사용하는 이유는 tr.ToTensor()는 PIL image 밖에 다루지 못하기 때문이다. 넘파이배열, 튜플을 다루기 위해서는 ToTensor로 데이터를 텐서형식으로 바꿔야한다\n",
        "ds1 = MyDataset(train_images, train_labels, transform=trans)\n",
        "train_loader1 = DataLoader(ds1, batch_size=10, shuffle=True)"
      ],
      "execution_count": null,
      "outputs": []
    },
    {
      "cell_type": "code",
      "metadata": {
        "id": "IPBLuPOVH37N"
      },
      "source": [
        "first_data = ds1[0]\n",
        "features, labels = first_data\n",
        "print(type(features), type(labels))"
      ],
      "execution_count": null,
      "outputs": []
    },
    {
      "cell_type": "code",
      "metadata": {
        "id": "W287l12LIGSp"
      },
      "source": [
        "dataiter1 = iter(train_loader1)\n",
        "images1, labels1 = dataiter1.next()"
      ],
      "execution_count": null,
      "outputs": []
    },
    {
      "cell_type": "code",
      "metadata": {
        "id": "HoeXZMozIGPO"
      },
      "source": [
        "images1"
      ],
      "execution_count": null,
      "outputs": []
    },
    {
      "cell_type": "code",
      "metadata": {
        "id": "-SwU83LvIGNe"
      },
      "source": [
        "class MyDataset(Dataset):\n",
        "\n",
        "  def __init__(self, x_data, y_data, transform=None):\n",
        "\n",
        "      self.x_data = x_data\n",
        "      self.y_data = y_data\n",
        "      self.transform = transform\n",
        "      self.len = len(y_data)\n",
        "\n",
        "  def __getitem__(self, index):\n",
        "      sample = self.x_data[index], self.y_data[index]\n",
        "\n",
        "      if self.transform:\n",
        "          sample = self.transform(sample)\n",
        "\n",
        "          return sample\n",
        "\n",
        "  def __len__(self):\n",
        "      return self.len\n",
        "\n",
        "class MyTransform:\n",
        "\n",
        "  def __call__(self, sample):\n",
        "      inputs, labels = sample\n",
        "      inputs = torch.FloatTensor(inputs)\n",
        "      inputs = inputs.permute(2,0,1)\n",
        "      labels = torch.FloatTensor(labels)\n",
        "\n",
        "      transf = tr.Compose([tr.ToPILImage(), tr.Resize(128), tr.Tensor(), tr.Normalize((0.5, 0.5, 0.5), (0.5, 0.5, 0.5))])\n",
        "      final_output = transf(inputs)\n",
        "\n",
        "      return final_outputs, labels"
      ],
      "execution_count": null,
      "outputs": []
    },
    {
      "cell_type": "code",
      "metadata": {
        "id": "X78pN5YeKBMT"
      },
      "source": [
        "ds2 = MyDataset(train_images, train_labels, transform=MyTransform())\n",
        "train_loader2 = DataLoader(ds2, batch_size=10, shuffle=True)"
      ],
      "execution_count": null,
      "outputs": []
    },
    {
      "cell_type": "code",
      "metadata": {
        "id": "k8SuFEDJKMv2"
      },
      "source": [
        "first_data = ds2[0]\n",
        "features, labels = first_data\n",
        "print(type(features), type(labels))"
      ],
      "execution_count": null,
      "outputs": []
    },
    {
      "cell_type": "code",
      "metadata": {
        "id": "_msatnU5KXYV"
      },
      "source": [
        "dataiter2 = iter(train_loader2)\n",
        "images2, labels2 = dataiter2.next()"
      ],
      "execution_count": null,
      "outputs": []
    },
    {
      "cell_type": "code",
      "metadata": {
        "id": "vyxB0rHLKjI4"
      },
      "source": [
        "images2.size()"
      ],
      "execution_count": null,
      "outputs": []
    },
    {
      "cell_type": "code",
      "metadata": {
        "id": "BJkEa7SfKha_"
      },
      "source": [
        "images2"
      ],
      "execution_count": null,
      "outputs": []
    }
  ]
}