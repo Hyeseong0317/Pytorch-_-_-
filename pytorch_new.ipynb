{
  "nbformat": 4,
  "nbformat_minor": 0,
  "metadata": {
    "colab": {
      "name": "pytorch_new",
      "provenance": [],
      "collapsed_sections": [],
      "authorship_tag": "ABX9TyOB5tgDqN2VIAkw29fhqJIW",
      "include_colab_link": true
    },
    "kernelspec": {
      "name": "python3",
      "display_name": "Python 3"
    },
    "language_info": {
      "name": "python"
    }
  },
  "cells": [
    {
      "cell_type": "markdown",
      "metadata": {
        "id": "view-in-github",
        "colab_type": "text"
      },
      "source": [
        "<a href=\"https://colab.research.google.com/github/Hyeseong0317/Pytorch_Capstone_Design/blob/main/pytorch_new.ipynb\" target=\"_parent\"><img src=\"https://colab.research.google.com/assets/colab-badge.svg\" alt=\"Open In Colab\"/></a>"
      ]
    },
    {
      "cell_type": "code",
      "metadata": {
        "colab": {
          "base_uri": "https://localhost:8080/"
        },
        "id": "rnZmh5izKdo5",
        "outputId": "36ec89b0-3ff5-4d2d-e806-571aa8ce342a"
      },
      "source": [
        "import torch\n",
        "import torch.nn as nn\n",
        "\n",
        "inputs = torch.Tensor(1, 1, 768, 496)\n",
        "print('텐서의 크기 : {}'.format(inputs.shape))"
      ],
      "execution_count": 9,
      "outputs": [
        {
          "output_type": "stream",
          "text": [
            "텐서의 크기 : torch.Size([1, 1, 768, 496])\n"
          ],
          "name": "stdout"
        }
      ]
    },
    {
      "cell_type": "code",
      "metadata": {
        "colab": {
          "base_uri": "https://localhost:8080/"
        },
        "id": "lc4cglm9MGmc",
        "outputId": "72310b0a-ad73-4510-eb29-f73de8462ea0"
      },
      "source": [
        "conv1 = nn.Conv2d(1, 32, 3, padding=1)\n",
        "print(conv1)\n",
        "\n",
        "conv2 = nn.Conv2d(32, 64, kernel_size=3, padding=1)\n",
        "print(conv2)\n",
        "\n",
        "pool = nn.MaxPool2d(2)\n",
        "print(pool)"
      ],
      "execution_count": 10,
      "outputs": [
        {
          "output_type": "stream",
          "text": [
            "Conv2d(1, 32, kernel_size=(3, 3), stride=(1, 1), padding=(1, 1))\n",
            "Conv2d(32, 64, kernel_size=(3, 3), stride=(1, 1), padding=(1, 1))\n",
            "MaxPool2d(kernel_size=2, stride=2, padding=0, dilation=1, ceil_mode=False)\n"
          ],
          "name": "stdout"
        }
      ]
    },
    {
      "cell_type": "code",
      "metadata": {
        "colab": {
          "base_uri": "https://localhost:8080/"
        },
        "id": "QdAuVrUiOFx2",
        "outputId": "9dd57dac-5725-45b0-8b5e-579d4718cfc6"
      },
      "source": [
        "out = conv1(inputs)\n",
        "print(out.shape)\n",
        "\n",
        "out = conv2(out)\n",
        "print(out.shape)\n",
        "\n",
        "out = pool(out)\n",
        "print(out.shape)\n",
        "\n",
        "out = pool(out)\n",
        "print(out.shape)"
      ],
      "execution_count": 13,
      "outputs": [
        {
          "output_type": "stream",
          "text": [
            "torch.Size([1, 32, 768, 496])\n",
            "torch.Size([1, 64, 768, 496])\n",
            "torch.Size([1, 64, 384, 248])\n",
            "torch.Size([1, 64, 192, 124])\n"
          ],
          "name": "stdout"
        }
      ]
    },
    {
      "cell_type": "code",
      "metadata": {
        "colab": {
          "base_uri": "https://localhost:8080/"
        },
        "id": "um-6s00zO6_F",
        "outputId": "2cab88a6-637b-4c6c-f23f-d6126c378db4"
      },
      "source": [
        "out = out.view(out.size(0), -1) \n",
        "print(out.shape)"
      ],
      "execution_count": 14,
      "outputs": [
        {
          "output_type": "stream",
          "text": [
            "torch.Size([1, 1523712])\n"
          ],
          "name": "stdout"
        }
      ]
    },
    {
      "cell_type": "code",
      "metadata": {
        "colab": {
          "base_uri": "https://localhost:8080/"
        },
        "id": "MBDKV9W7O_UF",
        "outputId": "c0b423c6-9dd5-4a59-a321-4b7dcaa4a9d1"
      },
      "source": [
        "fc = nn.Linear(1523712, 4) # input_dim = 1523712, output_dim = 4\n",
        "out = fc(out)\n",
        "print(out.shape)"
      ],
      "execution_count": 15,
      "outputs": [
        {
          "output_type": "stream",
          "text": [
            "torch.Size([1, 4])\n"
          ],
          "name": "stdout"
        }
      ]
    }
  ]
}