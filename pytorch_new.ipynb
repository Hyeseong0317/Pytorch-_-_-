{
  "nbformat": 4,
  "nbformat_minor": 0,
  "metadata": {
    "colab": {
      "name": "pytorch_new",
      "provenance": [],
      "collapsed_sections": [],
      "mount_file_id": "https://github.com/Hyeseong0317/Pytorch_Capstone_Design/blob/main/pytorch_new.ipynb",
      "authorship_tag": "ABX9TyMuJ7GiHRuQ7TvBqHX2O04y",
      "include_colab_link": true
    },
    "kernelspec": {
      "name": "python3",
      "display_name": "Python 3"
    },
    "language_info": {
      "name": "python"
    },
    "accelerator": "GPU"
  },
  "cells": [
    {
      "cell_type": "markdown",
      "metadata": {
        "id": "view-in-github",
        "colab_type": "text"
      },
      "source": [
        "<a href=\"https://colab.research.google.com/github/Hyeseong0317/Pytorch_Capstone_Design/blob/main/pytorch_new.ipynb\" target=\"_parent\"><img src=\"https://colab.research.google.com/assets/colab-badge.svg\" alt=\"Open In Colab\"/></a>"
      ]
    },
    {
      "cell_type": "code",
      "metadata": {
        "id": "9pwRHssvsuSH"
      },
      "source": [
        "from __future__ import print_function, division\n",
        "\n",
        "import torch\n",
        "import torch.nn as nn\n",
        "import torch.optim as optim\n",
        "from torch.optim import lr_scheduler\n",
        "import numpy as np\n",
        "import torchvision\n",
        "from torchvision import datasets, models, transforms\n",
        "import matplotlib.pyplot as plt\n",
        "import time\n",
        "import os\n",
        "import copy"
      ],
      "execution_count": 2,
      "outputs": []
    },
    {
      "cell_type": "code",
      "metadata": {
        "id": "lw7BMvjos-WW"
      },
      "source": [
        "data_transforms = {\n",
        "    'train': transforms.Compose([\n",
        "        transforms.RandomResizedCrop(224),\n",
        "        transforms.RandomHorizontalFlip(),\n",
        "        transforms.ToTensor(),\n",
        "        transforms.Normalize([0.5, 0.5, 0.5], [0.5, 0.5, 0.5])\n",
        "    ]),\n",
        "    'val': transforms.Compose([\n",
        "        transforms.Resize(256),\n",
        "        transforms.CenterCrop(224),\n",
        "        transforms.ToTensor(),\n",
        "        transforms.Normalize([0.5, 0.5, 0.5], [0.5, 0.5, 0.5])\n",
        "    ]),\n",
        "}"
      ],
      "execution_count": 3,
      "outputs": []
    },
    {
      "cell_type": "code",
      "metadata": {
        "id": "DDim-szLr0X4",
        "outputId": "c9a72eee-fb43-4fb2-a882-9ce3012cb291",
        "colab": {
          "base_uri": "https://localhost:8080/"
        }
      },
      "source": [
        "data_dir = '/content/drive/Shareddrives/8:1:1'\n",
        "image_datasets = {x: datasets.ImageFolder(os.path.join(data_dir, x),\n",
        "                                          data_transforms[x])\n",
        "                  for x in ['train']}\n",
        "dataloaders = {x: torch.utils.data.DataLoader(image_datasets[x], batch_size=110,\n",
        "                                             shuffle=True, num_workers=4)\n",
        "              for x in ['train']}\n",
        "dataset_sizes = {x: len(image_datasets[x]) for x in ['train']}\n",
        "class_names = image_datasets['train'].classes\n",
        "\n",
        "                  for x in ['val']}\n",
        "dataloaders = {x: torch.utils.data.DataLoader(image_datasets[x], batch_size=15,\n",
        "                                             shuffle=True, num_workers=4)\n",
        "              for x in ['val']}\n",
        "dataset_sizes = {x: len(image_datasets[x]) for x in ['train']}\n",
        "class_names = image_datasets['val'].classes\n",
        "\n",
        "                  for x in ['test']}\n",
        "dataloaders = {x: torch.utils.data.DataLoader(image_datasets[x], batch_size=15,\n",
        "                                             shuffle=True, num_workers=4)\n",
        "              for x in ['test']}\n",
        "dataset_sizes = {x: len(image_datasets[x]) for x in ['test']}\n",
        "class_names = image_datasets['test'].classes\n",
        "\n",
        "device = torch.device(\"cuda:0\" if torch.cuda.is_available() else \"cpu\")\n"
      ],
      "execution_count": 10,
      "outputs": [
        {
          "output_type": "stream",
          "text": [
            "/usr/local/lib/python3.7/dist-packages/torch/utils/data/dataloader.py:477: UserWarning: This DataLoader will create 4 worker processes in total. Our suggested max number of worker in current system is 2, which is smaller than what this DataLoader is going to create. Please be aware that excessive worker creation might get DataLoader running slow or even freeze, lower the worker number to avoid potential slowness/freeze if necessary.\n",
            "  cpuset_checked))\n"
          ],
          "name": "stderr"
        }
      ]
    },
    {
      "cell_type": "code",
      "metadata": {
        "id": "cfyw9Zahx-hG",
        "outputId": "e11d5163-6f88-47b9-adfc-1908660dd8d5",
        "colab": {
          "base_uri": "https://localhost:8080/",
          "height": 134
        }
      },
      "source": [
        ""
      ],
      "execution_count": 11,
      "outputs": [
        {
          "output_type": "error",
          "ename": "SyntaxError",
          "evalue": "ignored",
          "traceback": [
            "\u001b[0;36m  File \u001b[0;32m\"<ipython-input-11-06d8ede4d6f3>\"\u001b[0;36m, line \u001b[0;32m1\u001b[0m\n\u001b[0;31m    for x in ['val']}\u001b[0m\n\u001b[0m                    ^\u001b[0m\n\u001b[0;31mSyntaxError\u001b[0m\u001b[0;31m:\u001b[0m invalid syntax\n"
          ]
        }
      ]
    },
    {
      "cell_type": "code",
      "metadata": {
        "colab": {
          "base_uri": "https://localhost:8080/"
        },
        "id": "rnZmh5izKdo5",
        "outputId": "36ec89b0-3ff5-4d2d-e806-571aa8ce342a"
      },
      "source": [
        "import torch\n",
        "import torch.nn as nn\n",
        "\n",
        "inputs = torch.Tensor(1, 1, 768, 496)\n",
        "print('텐서의 크기 : {}'.format(inputs.shape))"
      ],
      "execution_count": null,
      "outputs": [
        {
          "output_type": "stream",
          "text": [
            "텐서의 크기 : torch.Size([1, 1, 768, 496])\n"
          ],
          "name": "stdout"
        }
      ]
    },
    {
      "cell_type": "code",
      "metadata": {
        "colab": {
          "base_uri": "https://localhost:8080/"
        },
        "id": "lc4cglm9MGmc",
        "outputId": "72310b0a-ad73-4510-eb29-f73de8462ea0"
      },
      "source": [
        "conv1 = nn.Conv2d(1, 32, 3, padding=1)\n",
        "print(conv1)\n",
        "\n",
        "conv2 = nn.Conv2d(32, 64, kernel_size=3, padding=1)\n",
        "print(conv2)\n",
        "\n",
        "pool = nn.MaxPool2d(2)\n",
        "print(pool)"
      ],
      "execution_count": null,
      "outputs": [
        {
          "output_type": "stream",
          "text": [
            "Conv2d(1, 32, kernel_size=(3, 3), stride=(1, 1), padding=(1, 1))\n",
            "Conv2d(32, 64, kernel_size=(3, 3), stride=(1, 1), padding=(1, 1))\n",
            "MaxPool2d(kernel_size=2, stride=2, padding=0, dilation=1, ceil_mode=False)\n"
          ],
          "name": "stdout"
        }
      ]
    },
    {
      "cell_type": "code",
      "metadata": {
        "colab": {
          "base_uri": "https://localhost:8080/"
        },
        "id": "QdAuVrUiOFx2",
        "outputId": "9dd57dac-5725-45b0-8b5e-579d4718cfc6"
      },
      "source": [
        "out = conv1(inputs)\n",
        "print(out.shape)\n",
        "\n",
        "out = conv2(out)\n",
        "print(out.shape)\n",
        "\n",
        "out = pool(out)\n",
        "print(out.shape)\n",
        "\n",
        "out = pool(out)\n",
        "print(out.shape)"
      ],
      "execution_count": null,
      "outputs": [
        {
          "output_type": "stream",
          "text": [
            "torch.Size([1, 32, 768, 496])\n",
            "torch.Size([1, 64, 768, 496])\n",
            "torch.Size([1, 64, 384, 248])\n",
            "torch.Size([1, 64, 192, 124])\n"
          ],
          "name": "stdout"
        }
      ]
    },
    {
      "cell_type": "code",
      "metadata": {
        "colab": {
          "base_uri": "https://localhost:8080/"
        },
        "id": "um-6s00zO6_F",
        "outputId": "2cab88a6-637b-4c6c-f23f-d6126c378db4"
      },
      "source": [
        "out = out.view(out.size(0), -1) \n",
        "print(out.shape)"
      ],
      "execution_count": null,
      "outputs": [
        {
          "output_type": "stream",
          "text": [
            "torch.Size([1, 1523712])\n"
          ],
          "name": "stdout"
        }
      ]
    },
    {
      "cell_type": "code",
      "metadata": {
        "colab": {
          "base_uri": "https://localhost:8080/"
        },
        "id": "MBDKV9W7O_UF",
        "outputId": "c0b423c6-9dd5-4a59-a321-4b7dcaa4a9d1"
      },
      "source": [
        "fc = nn.Linear(1523712, 4) # input_dim = 1523712, output_dim = 4\n",
        "out = fc(out)\n",
        "print(out.shape)"
      ],
      "execution_count": null,
      "outputs": [
        {
          "output_type": "stream",
          "text": [
            "torch.Size([1, 4])\n"
          ],
          "name": "stdout"
        }
      ]
    }
  ]
}