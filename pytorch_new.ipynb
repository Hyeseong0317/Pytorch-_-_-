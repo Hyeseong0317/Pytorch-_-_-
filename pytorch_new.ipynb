{
  "nbformat": 4,
  "nbformat_minor": 0,
  "metadata": {
    "colab": {
      "name": "pytorch_new",
      "provenance": [],
      "collapsed_sections": [],
      "include_colab_link": true
    },
    "kernelspec": {
      "name": "python3",
      "display_name": "Python 3"
    },
    "language_info": {
      "name": "python"
    },
    "accelerator": "GPU"
  },
  "cells": [
    {
      "cell_type": "markdown",
      "metadata": {
        "id": "view-in-github",
        "colab_type": "text"
      },
      "source": [
        "<a href=\"https://colab.research.google.com/github/Hyeseong0317/Pytorch_Capstone_Design/blob/main/pytorch_new.ipynb\" target=\"_parent\"><img src=\"https://colab.research.google.com/assets/colab-badge.svg\" alt=\"Open In Colab\"/></a>"
      ]
    },
    {
      "cell_type": "code",
      "metadata": {
        "colab": {
          "base_uri": "https://localhost:8080/"
        },
        "id": "idmZQ2_tPZb8",
        "outputId": "b7d6d7d6-1330-4ea8-fbc8-5b5bb50c59f5"
      },
      "source": [
        "from google.colab import drive\n",
        "drive.mount('/content/drive')"
      ],
      "execution_count": 3,
      "outputs": [
        {
          "output_type": "stream",
          "text": [
            "Mounted at /content/drive\n"
          ],
          "name": "stdout"
        }
      ]
    },
    {
      "cell_type": "code",
      "metadata": {
        "colab": {
          "base_uri": "https://localhost:8080/"
        },
        "id": "Qaq93JXdT4uJ",
        "outputId": "22aa8a34-9efe-4d55-df41-977b68da4afd"
      },
      "source": [
        "!pip install torchvision"
      ],
      "execution_count": 5,
      "outputs": [
        {
          "output_type": "stream",
          "text": [
            "Requirement already satisfied: torchvision in /usr/local/lib/python3.7/dist-packages (0.9.1+cu101)\n",
            "Requirement already satisfied: pillow>=4.1.1 in /usr/local/lib/python3.7/dist-packages (from torchvision) (7.1.2)\n",
            "Requirement already satisfied: torch==1.8.1 in /usr/local/lib/python3.7/dist-packages (from torchvision) (1.8.1+cu101)\n",
            "Requirement already satisfied: numpy in /usr/local/lib/python3.7/dist-packages (from torchvision) (1.19.5)\n",
            "Requirement already satisfied: typing-extensions in /usr/local/lib/python3.7/dist-packages (from torch==1.8.1->torchvision) (3.7.4.3)\n"
          ],
          "name": "stdout"
        }
      ]
    },
    {
      "cell_type": "code",
      "metadata": {
        "id": "9pwRHssvsuSH"
      },
      "source": [
        "from __future__ import print_function, division\n",
        "\n",
        "import torch\n",
        "import torch.nn as nn\n",
        "import torch.optim as optim\n",
        "from torch.optim import lr_scheduler\n",
        "import numpy as np\n",
        "import torchvision\n",
        "from torchvision import datasets, models, transforms\n",
        "from torch.utils.data import DataLoader\n",
        "import matplotlib.pyplot as plt\n",
        "import time\n",
        "import os\n",
        "import copy"
      ],
      "execution_count": 6,
      "outputs": []
    },
    {
      "cell_type": "code",
      "metadata": {
        "id": "-xOk7Gs0cPRP",
        "outputId": "f47dd8d2-e38f-4256-af6d-aaba7118dc5f",
        "colab": {
          "base_uri": "https://localhost:8080/"
        }
      },
      "source": [
        "USE_CUDA = torch.cuda.is_available() # GPU를 사용가능하면 True, 아니라면 False를 리턴\n",
        "device = torch.device(\"cuda\" if USE_CUDA else \"cpu\") # GPU 사용 가능하면 사용하고 아니면 CPU 사용\n",
        "print(\"다음 기기로 학습합니다:\", device)"
      ],
      "execution_count": 7,
      "outputs": [
        {
          "output_type": "stream",
          "text": [
            "다음 기기로 학습합니다: cuda\n"
          ],
          "name": "stdout"
        }
      ]
    },
    {
      "cell_type": "code",
      "metadata": {
        "id": "lw7BMvjos-WW"
      },
      "source": [
        "data_transforms = {\n",
        "    'train': transforms.Compose([\n",
        "        transforms.RandomResizedCrop(400),                         \n",
        "        transforms.ToTensor(),\n",
        "        transforms.Normalize([0.5, 0.5, 0.5], [0.5, 0.5, 0.5])\n",
        "    ]),\n",
        "    'val': transforms.Compose([\n",
        "        transforms.RandomResizedCrop(400), \n",
        "        transforms.ToTensor(),\n",
        "        transforms.Normalize([0.5, 0.5, 0.5], [0.5, 0.5, 0.5])\n",
        "    ]),\n",
        "    'test': transforms.Compose([\n",
        "        transforms.RandomResizedCrop(400),                        \n",
        "        transforms.ToTensor(),\n",
        "        transforms.Normalize([0.5, 0.5, 0.5], [0.5, 0.5, 0.5])\n",
        "    ])\n",
        "}"
      ],
      "execution_count": 8,
      "outputs": []
    },
    {
      "cell_type": "code",
      "metadata": {
        "id": "DDim-szLr0X4"
      },
      "source": [
        "data_dir = '/content/drive/Shareddrives/8:1:1/OCT2017(8:1:1)'\n",
        "image_datasets = {x: datasets.ImageFolder(os.path.join(data_dir, x),\n",
        "                                          data_transforms[x])\n",
        "                    for x in ['train', 'val', 'test']}\n",
        "\n",
        "\n",
        "train_dataloader = {x: torch.utils.data.DataLoader(image_datasets[x], batch_size=110,\n",
        "                                             shuffle=True, drop_last=True, num_workers=2)\n",
        "                    for x in ['train']}\n",
        "\n",
        "val_dataloader = {x: torch.utils.data.DataLoader(image_datasets[x], batch_size=14,\n",
        "                                             shuffle=True, drop_last=True, num_workers=2)\n",
        "                    for x in ['val']}                   \n",
        "\n",
        "test_dataloader = {x: torch.utils.data.DataLoader(image_datasets[x], batch_size=14,\n",
        "                                             shuffle=True, drop_last=True, num_workers=2)\n",
        "                    for x in ['test']}\n",
        "\n",
        "\n",
        "\n",
        "dataset_sizes = {x: len(image_datasets[x]) for x in ['train', 'val', 'test']}\n",
        "\n",
        "class_names = image_datasets['train'].classes\n",
        "\n",
        "device = torch.device(\"cuda:0\" if torch.cuda.is_available() else \"cpu\")\n"
      ],
      "execution_count": 9,
      "outputs": []
    },
    {
      "cell_type": "code",
      "metadata": {
        "colab": {
          "base_uri": "https://localhost:8080/"
        },
        "id": "XVL8UXEDaTOw",
        "outputId": "f93ef574-a731-4406-d1b0-8afaa4f615a4"
      },
      "source": [
        "train_dataloader"
      ],
      "execution_count": 11,
      "outputs": [
        {
          "output_type": "execute_result",
          "data": {
            "text/plain": [
              "{'train': <torch.utils.data.dataloader.DataLoader at 0x7ffaf88fc5d0>}"
            ]
          },
          "metadata": {
            "tags": []
          },
          "execution_count": 11
        }
      ]
    },
    {
      "cell_type": "code",
      "metadata": {
        "id": "MPY85dRiXSFK"
      },
      "source": [
        "def imshow(inp, title=None):\n",
        "    \"\"\"Imshow for Tensor.\"\"\"\n",
        "    inp = inp.numpy().transpose((1, 2, 0))\n",
        "    mean = np.array([0.5, 0.5, 0.5])\n",
        "    std = np.array([0.5, 0.5, 0.5])\n",
        "    inp = std * inp + mean\n",
        "    inp = np.clip(inp, 0, 1)\n",
        "    plt.imshow(inp)\n",
        "    if title is not None:\n",
        "        plt.title(title)\n",
        "    plt.pause(0.001)  # 갱신이 될 때까지 잠시 기다립니다.\n",
        "\n",
        "\n",
        "# 학습 데이터의 배치를 얻습니다.\n",
        "inputs, classes = next(iter(train_dataloader['train']))\n",
        "\n",
        "# 배치로부터 격자 형태의 이미지를 만듭니다.\n",
        "out = torchvision.utils.make_grid(inputs)\n",
        "\n",
        "imshow(out, title=[class_names[x] for x in classes])"
      ],
      "execution_count": null,
      "outputs": []
    },
    {
      "cell_type": "code",
      "metadata": {
        "id": "rnZmh5izKdo5"
      },
      "source": [
        "import torch\n",
        "import torch.nn as nn\n",
        "\n",
        "inputs = torch.Tensor(1, 1, 400, 400)\n",
        "print('텐서의 크기 : {}'.format(inputs.shape))"
      ],
      "execution_count": null,
      "outputs": []
    },
    {
      "cell_type": "code",
      "metadata": {
        "id": "lc4cglm9MGmc"
      },
      "source": [
        "conv1 = nn.Conv2d(1, 32, 3, padding=1)\n",
        "print(conv1)\n",
        "\n",
        "conv2 = nn.Conv2d(32, 64, kernel_size=3, padding=1)\n",
        "print(conv2)\n",
        "\n",
        "pool = nn.MaxPool2d(2)\n",
        "print(pool)"
      ],
      "execution_count": null,
      "outputs": []
    },
    {
      "cell_type": "code",
      "metadata": {
        "id": "QdAuVrUiOFx2"
      },
      "source": [
        "out = conv1(inputs)\n",
        "print(out.shape)\n",
        "\n",
        "out = conv2(out)\n",
        "print(out.shape)\n",
        "\n",
        "out = pool(out)\n",
        "print(out.shape)\n",
        "\n",
        "out = pool(out)\n",
        "print(out.shape)"
      ],
      "execution_count": null,
      "outputs": []
    },
    {
      "cell_type": "code",
      "metadata": {
        "id": "um-6s00zO6_F"
      },
      "source": [
        "out = out.view(out.size(0), -1) \n",
        "print(out.shape)"
      ],
      "execution_count": null,
      "outputs": []
    },
    {
      "cell_type": "code",
      "metadata": {
        "id": "J2ICPI32juOb"
      },
      "source": [
        "model = torch.nn.Sequential(\n",
        "    conv1,\n",
        "    torch.nn.ReLU(),\n",
        "    pool,\n",
        "    conv2,\n",
        "    torch.nn.ReLU(),\n",
        "    pool,\n",
        "    torch.nn.Linear(100 * 100 * 64, 4, bias=True) # 최종 output 400*400 (Maxpooling) -> 200*200 (Maxpooling) -> 100*100 pixels, 채널수 1 -> 32 -> 64, 즉 100*100 pixels, 64채널의 output과 4개의 분류(CNV,DME, DRUSEN, NORMAL)\n",
        ").to(device)"
      ],
      "execution_count": null,
      "outputs": []
    },
    {
      "cell_type": "code",
      "metadata": {
        "id": "YAupso7xoSND"
      },
      "source": [
        "model"
      ],
      "execution_count": null,
      "outputs": []
    },
    {
      "cell_type": "code",
      "metadata": {
        "id": "rJPfFhNUjpXa"
      },
      "source": [
        "training_epochs = 1\n",
        "learning_rate = 0.001\n",
        "total_batch = len(train_dataloader)"
      ],
      "execution_count": null,
      "outputs": []
    },
    {
      "cell_type": "code",
      "metadata": {
        "id": "WMAYxusrmrz_"
      },
      "source": [
        "len(train_dataloader)"
      ],
      "execution_count": null,
      "outputs": []
    },
    {
      "cell_type": "code",
      "metadata": {
        "id": "uhiryOIRmSlG"
      },
      "source": [
        "print('총 배치의 수 : {}'.format(total_batch))"
      ],
      "execution_count": null,
      "outputs": []
    },
    {
      "cell_type": "code",
      "metadata": {
        "id": "GaDgMmUriSnH"
      },
      "source": [
        "criterion = torch.nn.CrossEntropyLoss().to(device)    # 비용 함수에 소프트맥스 함수 포함되어져 있음.\n",
        "optimizer = torch.optim.Adam(model.parameters(), lr=learning_rate)"
      ],
      "execution_count": null,
      "outputs": []
    }
  ]
}